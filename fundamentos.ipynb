{
 "cells": [
  {
   "cell_type": "markdown",
   "id": "da51fdd4",
   "metadata": {},
   "source": [
    "Comentários"
   ]
  },
  {
   "cell_type": "code",
   "execution_count": null,
   "id": "3fb5ef92",
   "metadata": {},
   "outputs": [],
   "source": [
    "#comentários - 04\n",
    "# Cntrl + ; gera um comentário.\n",
    "\"\"\"\n",
    "comentário\n",
    "\n",
    "Orientação do professor - abusar do comentário\n",
    "Comentários de forma concientes - relevantes\n",
    "\n",
    "De forma educacional o comentario ajuda na aprendizagem no meio profissional polui o código.\n",
    "\n",
    "\"\"\"\n",
    "\n",
    "'''\n",
    "Isso também é um comentário.\n",
    "\n",
    "'''"
   ]
  },
  {
   "cell_type": "markdown",
   "id": "2ab3ee50",
   "metadata": {},
   "source": [
    "Operadores Aritmeticos"
   ]
  },
  {
   "cell_type": "code",
   "execution_count": null,
   "id": "ff7b0135",
   "metadata": {},
   "outputs": [],
   "source": [
    "semana = 425\n",
    "dia = semana / 5\n",
    "print(dia)\n",
    "\n",
    "mes = dia * 21\n",
    "print(mes)\n",
    "\n",
    "semanavt = 52\n",
    "semanavr = 105\n",
    "\n",
    "vt = semanavt * 4\n",
    "vr = semanavr * 4\n",
    "\n",
    "vtvr = vt + vr\n",
    "salario = mes\n",
    "\n",
    "print(salario)"
   ]
  },
  {
   "cell_type": "code",
   "execution_count": null,
   "id": "823d0198",
   "metadata": {},
   "outputs": [],
   "source": [
    "faculdade = 620\n",
    "internet = 110\n",
    "\n",
    "print((salario - faculdade) - internet)\n"
   ]
  },
  {
   "cell_type": "markdown",
   "id": "910cd8d1",
   "metadata": {},
   "source": [
    "Operadores relacionais"
   ]
  },
  {
   "cell_type": "code",
   "execution_count": null,
   "id": "64b870ac",
   "metadata": {},
   "outputs": [],
   "source": [
    "3 > 4\n",
    "3 >= 4\n",
    "4 < 3\n",
    "3 <= 3\n",
    "3 == 3\n",
    "3 != 4\n"
   ]
  },
  {
   "cell_type": "markdown",
   "id": "777a2837",
   "metadata": {},
   "source": [
    "Operadores de atribuição"
   ]
  },
  {
   "cell_type": "code",
   "execution_count": null,
   "id": "30b1f5dc",
   "metadata": {},
   "outputs": [],
   "source": [
    "a = 3 # '=' \n",
    "a += 5 # o += acrescenta o valor, somente o = substitui o valor\n",
    "a -= 2 # diminui o valor\n",
    "a *= 3 # multiplica o valor\n",
    "a /= 2 #divide o valor\n",
    "a %= 2\n",
    "a **= 2\n",
    "a //= 2\n",
    "print(a)"
   ]
  },
  {
   "cell_type": "markdown",
   "id": "270990fe",
   "metadata": {},
   "source": [
    "Operadores lógicos"
   ]
  },
  {
   "cell_type": "code",
   "execution_count": null,
   "id": "881fe5d7",
   "metadata": {},
   "outputs": [],
   "source": [
    "# true or false\n",
    "7 != 3 and 2 > 3\n",
    "\n",
    "#Tabela Verdade do AND\n",
    "True and True\n",
    "True and False\n",
    "False and True\n",
    "False and False\n",
    "''' Basta ter um false para ser false '''\n",
    "\n",
    "#Tabela verdade do OR\n",
    "True or True\n",
    "True or False\n",
    "False or True\n",
    "False or False\n",
    "''' Basta ter um true para ser true ''' \n",
    "\n",
    "#Tabela verdade do XOR\n",
    "True != True\n",
    "True != False\n",
    "False != True\n",
    "False != False\n",
    "\n",
    "#Operador de negação (unário)\n",
    "not True\n",
    "not False\n",
    "\n",
    "not 0\n",
    "not 1\n",
    "not not -1\n",
    "not not True\n",
    "\n",
    "# Operadores bit a bit Cuidado!\n",
    "True & False\n",
    "False | True\n",
    "\n",
    "# Um pouco de realidade\n",
    "saldo = 1000\n",
    "salario = 3000\n",
    "despesas = 1000\n",
    "\n",
    "\n",
    "# meta = saldo > 0 and salario - despesas >= 0.2 * salario\n",
    "\n",
    "saldo_positivo = saldo > 0\n",
    "despesas_controladas = salario - despesas >= 0.2 * salario\n",
    "\n",
    "meta = saldo_positivo and despesas_controladas\n",
    "meta\n"
   ]
  },
  {
   "cell_type": "markdown",
   "id": "fd464fc1",
   "metadata": {},
   "source": [
    "Desafio operadores lógicos"
   ]
  },
  {
   "cell_type": "code",
   "execution_count": null,
   "id": "302048e2",
   "metadata": {},
   "outputs": [],
   "source": [
    "# os trabalhos\n",
    "job_terca = True\n",
    "job_quinta = False\n",
    "\n",
    "\"\"\"\n",
    "- Ambos true = tv 50 + sorvete\n",
    "- 1 true = tv 32 + sorvete\n",
    "- 2 false = fica em casa\n",
    "\"\"\"\n",
    "\n",
    "tv50 = job_terca and job_quinta == True\n",
    "tv50\n",
    "tv32 = job_terca or job_quinta == True\n",
    "tv32\n",
    "nada = job_terca and job_quinta == False\n",
    "nada\n",
    "\n",
    "\n",
    "#Correção\n",
    "tv_50 = job_terca and job_quinta\n",
    "sorvete = job_terca or job_quinta\n",
    "tv_32 = job_terca != job_quinta\n",
    "mais_saudavel = not sorvete\n",
    "\n",
    "print(\"Tv50={} Tv32={} sorvete={} saudavel={}\"\n",
    "      .format(tv_50, tv_32, sorvete, mais_saudavel))\n",
    "\n",
    "# \"{}, {}, {}\".format(1, False, 'result')\n"
   ]
  },
  {
   "cell_type": "markdown",
   "id": "4ae659b4",
   "metadata": {},
   "source": [
    "Operadores unários"
   ]
  },
  {
   "cell_type": "code",
   "execution_count": null,
   "id": "ad9c52b7",
   "metadata": {},
   "outputs": [],
   "source": [
    "a = 3\n",
    "# a++\n",
    "a += 1\n",
    "# a--\n",
    "a -= 1\n",
    "\n",
    "\n",
    "not 0\n",
    "not 1\n",
    "not -2 \n",
    "not False\n",
    "not not True"
   ]
  },
  {
   "cell_type": "markdown",
   "id": "33c9ebba",
   "metadata": {},
   "source": [
    "Operadores ternários "
   ]
  },
  {
   "cell_type": "code",
   "execution_count": null,
   "id": "0e876130",
   "metadata": {},
   "outputs": [],
   "source": [
    "esta_chuvendo = True\n",
    "\n",
    "'Hoje estou com as roupas ' + ('Secas.', 'Molhadas.')[esta_chuvendo]\n",
    "\n",
    "'hoje estou com as roupas ' + ('molhadas2.' if esta_chuvendo else 'secas2.')"
   ]
  },
  {
   "cell_type": "markdown",
   "id": "6c9557e5",
   "metadata": {},
   "source": [
    "Mais operadores"
   ]
  },
  {
   "cell_type": "code",
   "execution_count": null,
   "id": "8e88af2d",
   "metadata": {},
   "outputs": [],
   "source": [
    "# Operador de membro\n",
    "lista = [1, 2, 3, 'Ana', 'carla']\n",
    "2 in lista\n",
    "'Ana' not in lista\n",
    "\n",
    "# Operador de identidade\n",
    "x = 3\n",
    "y = x\n",
    "z = 3\n",
    "x is y\n",
    "y is z\n",
    "x is not z\n",
    "\n",
    "lista_a = [1, 2, 3]\n",
    "lista_b = lista_a\n",
    "lista_c = [1, 2, 3]\n",
    "\n",
    "lista_a is lista_b\n",
    "lista_b is lista_c\n",
    "lista_a is not lista_c"
   ]
  },
  {
   "cell_type": "markdown",
   "id": "414881ea",
   "metadata": {},
   "source": [
    "Builtins"
   ]
  },
  {
   "cell_type": "code",
   "execution_count": null,
   "id": "99b5448f",
   "metadata": {},
   "outputs": [],
   "source": [
    "# type()\n",
    "type(1)\n",
    "__builtins__.type('fala galera')\n",
    "__builtins__.print(10 /3)\n",
    "\n",
    "# __builtins__.help(__builtins__.dir)\n",
    "# dir()\n"
   ]
  },
  {
   "cell_type": "markdown",
   "id": "a1f65a66",
   "metadata": {},
   "source": [
    "Conversão de tipos"
   ]
  },
  {
   "cell_type": "code",
   "execution_count": null,
   "id": "2d20a921",
   "metadata": {},
   "outputs": [],
   "source": [
    "2 + 3\n",
    "'2' + '3'\n",
    "# 2 + '3'\n",
    "a = 2\n",
    "b = '3'\n",
    "\n",
    "print(type(a))\n",
    "print(type(b))\n",
    "\n",
    "print(a + int(b))\n",
    "print(str(a) + b)\n",
    "\n",
    "type(str(a))\n",
    "\n",
    "print(2 + float('3.4'))"
   ]
  },
  {
   "cell_type": "markdown",
   "id": "f48a0804",
   "metadata": {},
   "source": [
    "Coerção Automática"
   ]
  },
  {
   "cell_type": "code",
   "execution_count": null,
   "id": "1357d8ef",
   "metadata": {},
   "outputs": [],
   "source": [
    "10 / 2 #Divisão sempre se torna float\n",
    "type(10/2)\n",
    "10 / 3\n",
    "10 // 3\n",
    "type(10 // 3) #Pode gerar um num int ou float dependendo da operação\n",
    "\n",
    "10 // 3.3\n",
    "type(10 // 3.3)\n",
    "10 / 2.5\n",
    "2 + True #true se torna \"1\"\n",
    "2 + False #false se torna \"0\"\n"
   ]
  },
  {
   "cell_type": "markdown",
   "id": "d79eb9bb",
   "metadata": {},
   "source": [
    "Tipos númericos #01"
   ]
  },
  {
   "cell_type": "code",
   "execution_count": null,
   "id": "d37247b4",
   "metadata": {},
   "outputs": [],
   "source": [
    "dir(int)\n",
    "dir(float)\n",
    "\n",
    "a = 5\n",
    "b = 2.5\n",
    "a / b\n",
    "a + b\n",
    "a * b\n",
    "#Todas operações que seja de um int com um float, o resultado sempre sera float, mesmo ambos os numeros sendo int.\n",
    "\n",
    "type(a)\n",
    "type(b)\n",
    "\n",
    "b.is_integer()\n",
    "5.0.is_integer()\n",
    "\n",
    "int.__add__(2, 3)\n",
    "\n",
    "(-2).__abs__()\n",
    "abs(-2)"
   ]
  },
  {
   "cell_type": "markdown",
   "id": "f23d716e",
   "metadata": {},
   "source": [
    " Numeros #02"
   ]
  },
  {
   "cell_type": "code",
   "execution_count": null,
   "id": "c4a5f755",
   "metadata": {},
   "outputs": [],
   "source": [
    "# 1.1 + 2.2\n",
    "from decimal import Decimal, getcontext\n",
    "\n",
    "Decimal(1) / Decimal(7)\n",
    "\n",
    "getcontext().prec = 4\n",
    "Decimal(1) / Decimal(7)\n",
    "Decimal.max(Decimal(20), Decimal(10))\n",
    "#dir(decimal)\n",
    "\n",
    "1.1 + 2.2\n",
    "getcontext().prec = 2\n",
    "Decimal(1.1) + Decimal(2.2)\n",
    "\n",
    "#Conferir a documentação com python decimal no google"
   ]
  },
  {
   "cell_type": "markdown",
   "id": "2a49713c",
   "metadata": {},
   "source": [
    "Tipo Strings #01"
   ]
  },
  {
   "cell_type": "code",
   "execution_count": null,
   "id": "6928fb61",
   "metadata": {},
   "outputs": [],
   "source": [
    "#Dir(str)\n",
    "\n",
    "# nome = 'Luan Lopes' \n",
    "'''\n",
    "1- Acessar uma letra especifica com [].\n",
    "2- Str é imutável, não se muda.\n",
    "3- o que se muda é o conteudo da variavel mas não a string.\n",
    "'''\n",
    "\n",
    "# 'Marca d'água'\n",
    "\"Dias d'Avila\" == 'Dias d\\'Avila'\n",
    "texto = 'Texto entre apostrofos pode ter \"aspas\" '\n",
    "\n",
    "doc = \"\"\" Texto com multiplas\n",
    "... linhas\n",
    "\"\"\"\n",
    "# doc\n",
    "# print('Texto com multiplas \\n linhas...')\n",
    "# print(doc)\n",
    "\n",
    "doc2 = ''' Também é possível usar a multiplas\n",
    "    linhas com aspas simples.\n",
    " '''\n",
    "# doc2"
   ]
  },
  {
   "cell_type": "markdown",
   "id": "200d72fb",
   "metadata": {},
   "source": [
    "Strings #02"
   ]
  },
  {
   "cell_type": "code",
   "execution_count": null,
   "id": "f964a9b9",
   "metadata": {},
   "outputs": [],
   "source": [
    "Nome = 'Luan Lima'\n",
    "Nome[0]\n",
    "Nome[3]\n",
    "Nome[-1]\n",
    "Nome[4:] #Cria um range\n",
    "Nome[-5:]\n",
    "Nome[:4] #indice final não entra\n",
    "Nome[0:6]\n",
    "\n",
    "numeros = '1234567890'\n",
    "numeros[::2]#Step de 2 em 2\n",
    "numeros[1::2]#Step pares\n",
    "numeros[::-1]#inverte\n",
    "numeros[::-2]#inverte de 2 em 2\n",
    "\n",
    "Nome[::-1]"
   ]
  },
  {
   "cell_type": "markdown",
   "id": "822423fa",
   "metadata": {},
   "source": [
    "Strings #03"
   ]
  },
  {
   "cell_type": "code",
   "execution_count": null,
   "id": "56fb0199",
   "metadata": {},
   "outputs": [],
   "source": [
    "frase = 'luan lima lopes é bacana'\n",
    "'in' in frase\n",
    "'lu' not in frase\n",
    "len(frase) #conta caracteres\n",
    "frase.lower()#Atribui lowercase deixa minusculo\n",
    "frase.upper()#Deixa tudo maiusculo\n",
    "\n",
    "frase.split()\n",
    "frase.split('a')"
   ]
  },
  {
   "cell_type": "markdown",
   "id": "6ec5f6e4",
   "metadata": {},
   "source": [
    "Strings #04"
   ]
  },
  {
   "cell_type": "code",
   "execution_count": null,
   "id": "db0b77f5",
   "metadata": {},
   "outputs": [],
   "source": [
    "#Magic methods & Opertadores overloading\n",
    "\n",
    "a = '123'\n",
    "b = 'silveira 4'\n",
    "a + b\n",
    "\n",
    "len(a)\n",
    "'1' in a"
   ]
  },
  {
   "cell_type": "markdown",
   "id": "dbbecb5e",
   "metadata": {},
   "source": [
    "Listas #01"
   ]
  },
  {
   "cell_type": "code",
   "execution_count": null,
   "id": "9f3904a6",
   "metadata": {},
   "outputs": [],
   "source": [
    "# append, remove, reverse\n",
    "lista = []\n",
    "type(lista)\n",
    "\n",
    "''' \n",
    "1- Em python array é um list.\n",
    "2- Em python o list é dinâmico e heterogenio.\n",
    "3- Basicamente pode ser mutável e receber diversos tipos de dados.\n",
    "Exemplo = int, float, string.\n",
    "'''\n",
    "\n",
    "lista.append(1) #Adicionar novos elementos\n",
    "lista.append(['nova','lista', '1']) \n",
    "#Criar lista dentro de lista\n",
    "lista.append(5)\n",
    "len(lista)\n",
    "\n",
    "nova_lista = [1, 2, 'luan', 'lopes']\n",
    "len(nova_lista) \n",
    "nova_lista\n",
    "\n",
    "nova_lista.remove(2)\n",
    "nova_lista.reverse()\n",
    "nova_lista"
   ]
  },
  {
   "cell_type": "markdown",
   "id": "36402064",
   "metadata": {},
   "source": [
    "Listas #02"
   ]
  },
  {
   "cell_type": "code",
   "execution_count": null,
   "id": "91b25702",
   "metadata": {},
   "outputs": [],
   "source": [
    "# index, in e not in.\n",
    "lista = [ 1, 5, 'receba', 'guilherme', 3.143]\n",
    "lista.index('receba')\n",
    "#lista.index(42) gera erro pq n tem na lista\n",
    "\n",
    "1 in lista\n",
    "'recebe' in lista\n",
    "'pedro' not in lista\n",
    "lista[0]\n",
    "lista[4]\n",
    "lista[-1] #pegar ultimo elemento da lista\n",
    "lista[::2]"
   ]
  },
  {
   "cell_type": "markdown",
   "id": "a817546e",
   "metadata": {},
   "source": [
    "Listas #03"
   ]
  },
  {
   "cell_type": "code",
   "execution_count": null,
   "id": "78b3ce61",
   "metadata": {},
   "outputs": [],
   "source": [
    "lista = ['arthur', 'rodrigo', 'luan', 'lavinia', 'lopes']\n",
    "lista[1:3]\n",
    "lista[1:-1]\n",
    "lista[:1]\n",
    "lista[:-1] \n",
    "lista[::2] #vai de 2 em 2\n",
    "lista[::-1] #inverte\n",
    "del lista[2]\n",
    "lista\n",
    "del lista[1:]\n",
    "lista"
   ]
  },
  {
   "cell_type": "markdown",
   "id": "22c06883",
   "metadata": {},
   "source": [
    "Tuplas"
   ]
  },
  {
   "cell_type": "code",
   "execution_count": null,
   "id": "24ed6c50",
   "metadata": {},
   "outputs": [],
   "source": [
    "# Tuplas são imutáveis\n",
    "# Tuplas e listas estruturas indexadas\n",
    "\n",
    "\n",
    "tupla = tuple()\n",
    "#tupla = ('um') tipo string \n",
    "#tupla = ('um',) tipo tupla de um unico elemento\n",
    "\n",
    "cores = ('verde', 'amarelo', 'azul', 'Azul', 'branco')\n",
    "#Tupla imutável criada pelo ()\n",
    "\n",
    "cores[0] #Primeiro obj\n",
    "cores[-1] #Ultimo obj\n",
    "cores[1:] # Intervalo de 1 até o ultimo item\n",
    "\n",
    "cores.index('amarelo') #quantos amarelo na lista\n",
    "cores.count('Azul')\n",
    "len(cores)"
   ]
  },
  {
   "cell_type": "markdown",
   "id": "4958e421",
   "metadata": {},
   "source": [
    "Dicionários #01"
   ]
  },
  {
   "cell_type": "code",
   "execution_count": null,
   "id": "22938181",
   "metadata": {},
   "outputs": [],
   "source": [
    "# Estruturas de chaves e valores\n",
    "# Estruturas de dicionários pode ser indexada\n",
    "# Para definir um dicionar é {}\n",
    "# Pode ter um dicionário dentro do outro\n",
    "\n",
    "pessoa = {'nome': 'Prof(a). Ana', 'idade': 38, 'cursos': ['inglês', 'Português']}\n",
    "\n",
    "len(pessoa)\n",
    "\n",
    "pessoa['nome']\n",
    "pessoa['idade']\n",
    "pessoa['cursos'][1]\n",
    "\n",
    "pessoa.keys()\n",
    "pessoa.values()\n",
    "pessoa.items()\n",
    "pessoa.get('cursos')"
   ]
  },
  {
   "cell_type": "markdown",
   "id": "7f951472",
   "metadata": {},
   "source": [
    "Dicionários #02"
   ]
  },
  {
   "cell_type": "code",
   "execution_count": null,
   "id": "1444b4ad",
   "metadata": {},
   "outputs": [],
   "source": [
    "# POP, tanto tira quanto coloca valor.\n",
    "# Del, também exclui o valor.\n",
    "# Update, Atualiza os valores.\n",
    "# clear, limpa todos os valores.\n",
    "# [] alterar atributo\n",
    "# () alterar dentro uma função pop,update,clear\n",
    "# dentro de uma função com vários elementos ( [ ] )\n",
    "\n",
    "pessoa = {'nome': 'Alberto', 'idade': 20, 'Cursos': ['JavaScript', 'Python']}\n",
    "\n",
    "pessoa['idade'] = 30\n",
    "pessoa['Cursos'].append('Angular')\n",
    "pessoa.pop('idade')\n",
    "pessoa.update( {'idade': 40, 'sexo': 'M'})\n",
    "del pessoa['Cursos']\n",
    "pessoa.clear()\n",
    "pessoa"
   ]
  },
  {
   "cell_type": "markdown",
   "id": "f00ca464",
   "metadata": {},
   "source": [
    "Conjuntos / SET"
   ]
  },
  {
   "cell_type": "code",
   "execution_count": null,
   "id": "674c534d",
   "metadata": {},
   "outputs": [],
   "source": [
    "# SET limitado por {}\n",
    "# Dicionário e conjunto por {}\n",
    "# Lista por []\n",
    "# Tupla ()\n",
    "# Dicionário chave-valor e conjunto só valor\n",
    "# Conjunto não aceita repetição e não é indexada\n",
    "\n",
    "# a = (1,2,3) tupla\n",
    "# a = [1,2,3] Lista\n",
    "a = {1,2,3} #SET \n",
    "\n",
    "a = set('cod3r')\n",
    "print('3' in a, 4 not in a) #operador membro\n",
    "{1, 2, 3} == {3, 2, 1, 3}  #Conjunto tem ambos os elementos e repetições são ignoradas\n",
    "\n",
    "#operações\n",
    "\n",
    "c1 = {1, 2,}\n",
    "c2 = {2, 3}\n",
    "c1.union(c2)\n",
    "c1.intersection(c2) #Itens em comum\n",
    "c1.update(c2) #Altera os dados\n",
    "\n",
    "c2 <= c1 #subconjunto\n",
    "c1 >= c2 #superconjunto\n",
    "\n",
    "{1,2,3} - {2} #Diferença\n",
    "c1 - c2 #Diferença\n",
    "c1 -= c2 #Diferença"
   ]
  },
  {
   "cell_type": "markdown",
   "id": "509e0ac0",
   "metadata": {},
   "source": [
    "# Interpolação"
   ]
  },
  {
   "cell_type": "code",
   "execution_count": 1,
   "id": "296bb81a",
   "metadata": {},
   "outputs": [
    {
     "name": "stdout",
     "output_type": "stream",
     "text": [
      "Nome: Ana idade: 30\n",
      "Nome: Ana Idade: 30\n",
      "Nome: Ana Idade: 30\n",
      "Nome: Ana Idade: 30\n"
     ]
    }
   ],
   "source": [
    "#Interpolação é substituir valores dentro de uma string\n",
    "# %s (string) %d (int) %f (float) %r (true/false)\n",
    "from string import Template\n",
    "\n",
    "nome, idade = 'Ana', 30\n",
    "\n",
    "print('Nome: %s idade: %d' % (nome,idade)) #mais antiga \n",
    "print('Nome: {0} Idade: {1}'.format(nome,idade)) #python < 3.6 #mais recomendado!\n",
    "print(f'Nome: {nome} Idade: {idade}') # python >= 3.6\n",
    "\n",
    "s = Template('Nome: $nome Idade: $idade')\n",
    "print(s.substitute(nome=nome, idade=idade))\n"
   ]
  },
  {
   "cell_type": "markdown",
   "id": "ef2e8008",
   "metadata": {},
   "source": [
    "If, elif e else"
   ]
  },
  {
   "cell_type": "code",
   "execution_count": 2,
   "id": "6f2b7831",
   "metadata": {},
   "outputs": [
    {
     "name": "stdout",
     "output_type": "stream",
     "text": [
      "reprovado\n"
     ]
    }
   ],
   "source": [
    "nota = 3\n",
    "\n",
    "if nota >= 9:\n",
    "    print(\"quadro de honra\")\n",
    "elif nota >=7:\n",
    "    print(\"Aprovado\")\n",
    "elif nota >=5:\n",
    "    print(\"recuperação\")\n",
    "else:\n",
    "    print(\"reprovado\")"
   ]
  },
  {
   "cell_type": "markdown",
   "id": "85f55116",
   "metadata": {},
   "source": [
    "Comprehension"
   ]
  },
  {
   "cell_type": "code",
   "execution_count": 3,
   "id": "0a75ad47",
   "metadata": {},
   "outputs": [
    {
     "name": "stdout",
     "output_type": "stream",
     "text": [
      "List comprehesion: [3, 9, 15, 21, 27]\n",
      "Lista normal: [3, 9, 15, 21, 27]\n",
      "Gen : 0\n",
      "Gen : 4\n",
      "Gen : 16\n",
      "Gen : 36\n",
      "Gen : 64\n",
      "{0: 0, 2: 4, 4: 8, 6: 12, 8: 16}\n",
      "Dict 0 x 2 = 0\n",
      "Dict 2 x 2 = 4\n",
      "Dict 4 x 2 = 8\n",
      "Dict 6 x 2 = 12\n",
      "Dict 8 x 2 = 16\n"
     ]
    }
   ],
   "source": [
    "# generator ()\n",
    "# Dict {}\n",
    "# list comprehension []\n",
    "\n",
    "# list comprehension\n",
    "\n",
    "triplo = [i * 3 for i in range(1, 11) if i % 2 == 1]\n",
    "print(f\"List comprehesion: {triplo}\")\n",
    "\n",
    "# versão normal\n",
    "triplos = []\n",
    "for i in range(1, 11):\n",
    "    if i % 2 == 1:\n",
    "        triplos.append(i * 3)\n",
    "print(f\"Lista normal: {triplos}\")\n",
    "\n",
    "\n",
    "#Generator é muito mais leve do que o list comprehension mas gera sob demanda.\n",
    "#Comprehesion ocupa os espaço em memória\n",
    "\n",
    "generator = (i ** 2 for i in range(10) if i % 2 == 0)\n",
    "# print(next(generator))\n",
    "\n",
    "for numero in generator:\n",
    "    print(f'Gen : {numero}')\n",
    "\n",
    "\n",
    "#Dict_comprehension\n",
    "dicionario = {i: i * 2 for i in range(10) if i % 2 == 0}\n",
    "print(dicionario)\n",
    "\n",
    "for numeros, dobro in dicionario.items():\n",
    "    print(f'Dict {numeros} x 2 = {dobro}')"
   ]
  },
  {
   "cell_type": "markdown",
   "id": "d1f6f575",
   "metadata": {},
   "source": [
    "Tipos de parâmetros (functions)"
   ]
  },
  {
   "cell_type": "code",
   "execution_count": 4,
   "id": "dfd53589",
   "metadata": {},
   "outputs": [],
   "source": [
    "# *args -> tupla\n",
    "# **kwargs -> dict\n",
    "# Key worlded arguments\n",
    "\n",
    "# returnos de uma função -> [lista], {dicionario}, (Tupla)\n",
    "# Parâmetros nomeados deixa mais légivel\n"
   ]
  },
  {
   "cell_type": "markdown",
   "id": "f829cf63",
   "metadata": {},
   "source": [
    "Conceito ZIP"
   ]
  },
  {
   "cell_type": "code",
   "execution_count": null,
   "id": "ad8236cb",
   "metadata": {},
   "outputs": [
    {
     "data": {
      "text/plain": [
       "[('Luan', 'Lima'), ('Pedro', 'Pontes'), ('henrique', 'Ferreira')]"
      ]
     },
     "execution_count": 14,
     "metadata": {},
     "output_type": "execute_result"
    }
   ],
   "source": [
    "#Zip une 2 listas em uma só, pode se tornar uma tupla ou dicionário(chave-valor), também\n",
    "nome = ['Luan', 'Pedro', 'henrique']\n",
    "sobrenome = ['Lima', 'Pontes', 'Ferreira']\n",
    "\n",
    "juntos = zip(nome, sobrenome)\n",
    "list(juntos)\n",
    "# tuple(juntos)\n",
    "# dict(juntos)"
   ]
  }
 ],
 "metadata": {
  "kernelspec": {
   "display_name": "Python 3",
   "language": "python",
   "name": "python3"
  },
  "language_info": {
   "codemirror_mode": {
    "name": "ipython",
    "version": 3
   },
   "file_extension": ".py",
   "mimetype": "text/x-python",
   "name": "python",
   "nbconvert_exporter": "python",
   "pygments_lexer": "ipython3",
   "version": "3.13.3"
  }
 },
 "nbformat": 4,
 "nbformat_minor": 5
}
