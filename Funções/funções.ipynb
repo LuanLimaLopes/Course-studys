{
 "cells": [
  {
   "cell_type": "markdown",
   "id": "c937e344",
   "metadata": {},
   "source": [
    "parâmetros nomeados"
   ]
  },
  {
   "cell_type": "code",
   "execution_count": 3,
   "id": "cdce5c75",
   "metadata": {},
   "outputs": [],
   "source": [
    "def tag_bloco(texto, classe ='sucess', inline=False):\n",
    "    tag = 'span' if inline else 'div'\n",
    "    return f'<{tag} class=\"{classe}\"> {texto}</{tag}>'\n",
    "\n",
    "    # Ordem dos parâmetros, texto, classe e inline.\n",
    "    # Com os parâmetros nomeados podemos inverter a ordem dos dados\n",
    "\n",
    "# Aula de Parâmetros nomeados ->\n",
    "    print(tag_bloco(inline=False, texto='Nomenclatura', classe='Informa'))"
   ]
  },
  {
   "cell_type": "markdown",
   "id": "44891dd5",
   "metadata": {},
   "source": [
    "Packing e unpacking"
   ]
  },
  {
   "cell_type": "code",
   "execution_count": null,
   "id": "b14ae847",
   "metadata": {},
   "outputs": [
    {
     "name": "stdout",
     "output_type": "stream",
     "text": [
      "7\n",
      "6\n"
     ]
    }
   ],
   "source": [
    "#Packing, empacota valores em uma função (EM UMA)\n",
    "#Unpacking, desempacota valores de uma função (DE UMA)\n",
    "\n",
    "#Packing\n",
    "def soma3(*numeros):\n",
    "    soma = 0\n",
    "    for n in numeros:\n",
    "        soma += n\n",
    "    return soma\n",
    "print(soma3(2, 5))\n",
    "\n",
    "#Unpacking\n",
    "nums = (2, 2, 2)\n",
    "print(soma3(*nums))"
   ]
  },
  {
   "cell_type": "markdown",
   "id": "4c731025",
   "metadata": {},
   "source": [
    "Callable"
   ]
  },
  {
   "cell_type": "code",
   "execution_count": null,
   "id": "7912dd89",
   "metadata": {},
   "outputs": [],
   "source": [
    "#é uma função que chama uma função\n",
    "\n",
    "def executar(funcao):\n",
    "    funcao()\n",
    "\n",
    "def bom_dia():\n",
    "    print(\"Bom dia!!\")\n",
    "\n",
    "executar(bom_dia)"
   ]
  }
 ],
 "metadata": {
  "kernelspec": {
   "display_name": "Python 3",
   "language": "python",
   "name": "python3"
  },
  "language_info": {
   "codemirror_mode": {
    "name": "ipython",
    "version": 3
   },
   "file_extension": ".py",
   "mimetype": "text/x-python",
   "name": "python",
   "nbconvert_exporter": "python",
   "pygments_lexer": "ipython3",
   "version": "3.13.3"
  }
 },
 "nbformat": 4,
 "nbformat_minor": 5
}
